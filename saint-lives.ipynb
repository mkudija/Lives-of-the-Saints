{
 "cells": [
  {
   "cell_type": "code",
   "execution_count": 1,
   "metadata": {
    "collapsed": false
   },
   "outputs": [
    {
     "data": {
      "text/html": [
       "<div>\n",
       "<table border=\"1\" class=\"dataframe\">\n",
       "  <thead>\n",
       "    <tr style=\"text-align: right;\">\n",
       "      <th></th>\n",
       "      <th>Name</th>\n",
       "      <th>Birth</th>\n",
       "      <th>Death</th>\n",
       "      <th>Number</th>\n",
       "    </tr>\n",
       "  </thead>\n",
       "  <tbody>\n",
       "    <tr>\n",
       "      <th>0</th>\n",
       "      <td>St. Agnes</td>\n",
       "      <td>291</td>\n",
       "      <td>304</td>\n",
       "      <td>1</td>\n",
       "    </tr>\n",
       "    <tr>\n",
       "      <th>1</th>\n",
       "      <td>St. Patrick</td>\n",
       "      <td>387</td>\n",
       "      <td>461</td>\n",
       "      <td>2</td>\n",
       "    </tr>\n",
       "    <tr>\n",
       "      <th>2</th>\n",
       "      <td>St. Francis</td>\n",
       "      <td>1181</td>\n",
       "      <td>1226</td>\n",
       "      <td>3</td>\n",
       "    </tr>\n",
       "    <tr>\n",
       "      <th>3</th>\n",
       "      <td>St. Clare of Assisi</td>\n",
       "      <td>1194</td>\n",
       "      <td>1253</td>\n",
       "      <td>4</td>\n",
       "    </tr>\n",
       "    <tr>\n",
       "      <th>4</th>\n",
       "      <td>St. Anthony of Padua</td>\n",
       "      <td>1195</td>\n",
       "      <td>1231</td>\n",
       "      <td>5</td>\n",
       "    </tr>\n",
       "  </tbody>\n",
       "</table>\n",
       "</div>"
      ],
      "text/plain": [
       "                   Name  Birth  Death  Number\n",
       "0             St. Agnes    291    304       1\n",
       "1           St. Patrick    387    461       2\n",
       "2           St. Francis   1181   1226       3\n",
       "3   St. Clare of Assisi   1194   1253       4\n",
       "4  St. Anthony of Padua   1195   1231       5"
      ]
     },
     "execution_count": 1,
     "metadata": {},
     "output_type": "execute_result"
    }
   ],
   "source": [
    "from datetime import datetime\n",
    "import pandas as pd\n",
    "import matplotlib.pyplot as plt\n",
    "import matplotlib.dates as dt\n",
    "\n",
    "\n",
    "df = pd.read_csv('saints.csv')\n",
    "df.head()"
   ]
  },
  {
   "cell_type": "code",
   "execution_count": 69,
   "metadata": {
    "collapsed": false
   },
   "outputs": [
    {
     "data": {
      "image/png": "[encoded data removed]",
      "text/plain": [
       "<matplotlib.figure.Figure at 0x115b6d0f0>"
      ]
     },
     "metadata": {},
     "output_type": "display_data"
    }
   ],
   "source": [
    "%matplotlib inline\n",
    "\n",
    "fig = plt.figure()\n",
    "ax = fig.add_subplot(111)\n",
    "ax = plt.hlines(df.Number, df.Birth, df.Death, colors='b', linewidth=10, label=df.Name)\n",
    "plt.title('Lives of the Saints')\n",
    "plt.xlabel('Year')\n",
    "'''\n",
    "#do not display top and right axes\n",
    "#comment to deal with ticks\n",
    "ax.spines[\"right\"].set_visible(False)\n",
    "ax.spines[\"top\"].set_visible(False)\n",
    "\n",
    "## the original answer:\n",
    "## see  http://old.nabble.com/Ticks-direction-td30107742.html\n",
    "#for tick in ax.xaxis.majorTicks:\n",
    "#  tick._apply_params(tickdir=\"out\")\n",
    "\n",
    "# the OP way (better):\n",
    "ax.tick_params(axis='both', direction='out')\n",
    "ax.get_xaxis().tick_bottom()   # remove unneeded ticks \n",
    "ax.get_yaxis().tick_left()\n",
    "\n",
    "\n",
    "plt.tick_params(\n",
    "    axis='y',          # changes apply to the x-axis\n",
    "    which='both',      # both major and minor ticks are affected\n",
    "    bottom='off',      # ticks along the bottom edge are off\n",
    "    top='off',         # ticks along the top edge are off\n",
    "    labelbottom='off') # labels along the bottom edge are off\n",
    "'''\n",
    "\n",
    "plt.gca().spines['right'].set_visible(False)\n",
    "plt.gca().spines['top'].set_visible(False)\n",
    "plt.gca().spines['left'].set_visible(False)\n",
    "\n",
    "#ax.yaxis.set_ticks_position('left')\n",
    "#ax.spines['right'].set_visible(False)\n",
    "\n",
    "for item in range(0,len(df)):\n",
    "    x = df.iloc[item,2] + 20\n",
    "    y = df.iloc[item,3]\n",
    "    s = df['Name'][item]\n",
    "    plt.text(x, y, s, fontdict=None)"
   ]
  },
  {
   "cell_type": "code",
   "execution_count": null,
   "metadata": {
    "collapsed": true
   },
   "outputs": [],
   "source": []
  }
 ],
 "metadata": {
  "anaconda-cloud": {},
  "kernelspec": {
   "display_name": "Python [Root]",
   "language": "python",
   "name": "Python [Root]"
  },
  "language_info": {
   "codemirror_mode": {
    "name": "ipython",
    "version": 3
   },
   "file_extension": ".py",
   "mimetype": "text/x-python",
   "name": "python",
   "nbconvert_exporter": "python",
   "pygments_lexer": "ipython3",
   "version": "3.5.2"
  }
 },
 "nbformat": 4,
 "nbformat_minor": 0
}
